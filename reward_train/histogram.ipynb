{
 "cells": [
  {
   "cell_type": "code",
   "execution_count": 1,
   "id": "initial_id",
   "metadata": {
    "ExecuteTime": {
     "end_time": "2025-02-19T11:47:32.127250Z",
     "start_time": "2025-02-19T11:47:31.833587Z"
    },
    "collapsed": true
   },
   "outputs": [],
   "source": [
    "from glob import glob\n",
    "from os import path\n",
    "import numpy as np\n",
    "import matplotlib.pyplot as plt\n",
    "from tqdm import tqdm"
   ]
  },
  {
   "cell_type": "code",
   "execution_count": 2,
   "id": "cf3dd5ce5118e702",
   "metadata": {
    "ExecuteTime": {
     "end_time": "2025-02-19T11:47:32.137898Z",
     "start_time": "2025-02-19T11:47:32.135588Z"
    }
   },
   "outputs": [],
   "source": [
    "buffer_dir = '/mnt/nas/instructed_rl/pcgrl_buffer2'"
   ]
  },
  {
   "cell_type": "code",
   "execution_count": 3,
   "id": "32bd83375c940998",
   "metadata": {
    "ExecuteTime": {
     "end_time": "2025-02-19T11:47:32.441185Z",
     "start_time": "2025-02-19T11:47:32.428620Z"
    }
   },
   "outputs": [
    {
     "data": {
      "text/plain": [
       "63"
      ]
     },
     "execution_count": 3,
     "metadata": {},
     "output_type": "execute_result"
    }
   ],
   "source": [
    "dir_path = path.join(buffer_dir, '*', '*.npz')\n",
    "file_list = glob(dir_path, recursive=True)\n",
    "len(file_list)"
   ]
  },
  {
   "cell_type": "code",
   "execution_count": 4,
   "id": "673a8ce90d04eaa7",
   "metadata": {
    "ExecuteTime": {
     "end_time": "2025-02-19T11:48:51.706197Z",
     "start_time": "2025-02-19T11:47:32.530302Z"
    }
   },
   "outputs": [
    {
     "name": "stderr",
     "output_type": "stream",
     "text": [
      "Loading buffer files: 100%|████████████████████████████████████████████████████████████████████████████████| 63/63 [01:19<00:00,  1.26s/it]\n"
     ]
    }
   ],
   "source": [
    "rewards = []\n",
    "\n",
    "for file in tqdm(file_list, desc=\"Loading buffer files\"):\n",
    "\n",
    "    data = np.load(file, allow_pickle=True).get('buffer').item()\n",
    "    \n",
    "    reward = data.get('reward')\n",
    "    rewards.append(reward)\n",
    "\n",
    "reward_raw = np.concatenate(rewards, axis=0)"
   ]
  },
  {
   "cell_type": "code",
   "execution_count": null,
   "id": "5149e999e493746d",
   "metadata": {},
   "outputs": [],
   "source": [
    "reward = reward_raw.copy()"
   ]
  },
  {
   "cell_type": "code",
   "execution_count": 36,
   "id": "cbc99bca16ce18a2",
   "metadata": {
    "ExecuteTime": {
     "end_time": "2025-02-19T12:03:32.225938Z",
     "start_time": "2025-02-19T12:03:16.579014Z"
    }
   },
   "outputs": [
    {
     "name": "stdout",
     "output_type": "stream",
     "text": [
      "(1890, 128)\n"
     ]
    },
    {
     "data": {
      "text/plain": [
       "(array([[ 9.,  0.,  0., ...,  0.,  0., 16.],\n",
       "        [14.,  0.,  0., ...,  0.,  0., 15.],\n",
       "        [11.,  0.,  0., ...,  0.,  0.,  9.],\n",
       "        ...,\n",
       "        [11.,  0.,  0., ...,  0.,  0., 12.],\n",
       "        [11.,  0.,  0., ...,  0.,  0., 16.],\n",
       "        [ 0.,  0.,  0., ...,  0.,  0.,  0.]]),\n",
       " array([-1.        , -0.98000002, -0.95999998, -0.94      , -0.92000002,\n",
       "        -0.89999998, -0.88      , -0.86000001, -0.83999997, -0.81999999,\n",
       "        -0.80000001, -0.77999997, -0.75999999, -0.74000001, -0.72000003,\n",
       "        -0.69999999, -0.68000001, -0.66000003, -0.63999999, -0.62      ,\n",
       "        -0.60000002, -0.57999998, -0.56      , -0.54000002, -0.51999998,\n",
       "        -0.5       , -0.47999999, -0.46000001, -0.44      , -0.41999999,\n",
       "        -0.40000001, -0.38      , -0.36000001, -0.34      , -0.31999999,\n",
       "        -0.30000001, -0.28      , -0.25999999, -0.23999999, -0.22      ,\n",
       "        -0.2       , -0.18000001, -0.16      , -0.14      , -0.12      ,\n",
       "        -0.1       , -0.08      , -0.06      , -0.04      , -0.02      ,\n",
       "         0.        ,  0.02      ,  0.04      ,  0.06      ,  0.08      ,\n",
       "         0.1       ,  0.12      ,  0.14      ,  0.16      ,  0.18000001,\n",
       "         0.2       ,  0.22      ,  0.23999999,  0.25999999,  0.28      ,\n",
       "         0.30000001,  0.31999999,  0.34      ,  0.36000001,  0.38      ,\n",
       "         0.40000001,  0.41999999,  0.44      ,  0.46000001,  0.47999999,\n",
       "         0.5       ,  0.51999998,  0.54000002,  0.56      ,  0.57999998,\n",
       "         0.60000002,  0.62      ,  0.63999999,  0.66000003,  0.68000001,\n",
       "         0.69999999,  0.72000003,  0.74000001,  0.75999999,  0.77999997,\n",
       "         0.80000001,  0.81999999,  0.83999997,  0.86000001,  0.88      ,\n",
       "         0.89999998,  0.92000002,  0.94      ,  0.95999998,  0.98000002,\n",
       "         1.        ]),\n",
       " <a list of 128 BarContainer objects>)"
      ]
     },
     "execution_count": 36,
     "metadata": {},
     "output_type": "execute_result"
    },
    {
     "data": {
      "image/png": "[encoded data removed]",
      "text/plain": [
       "<Figure size 640x480 with 1 Axes>"
      ]
     },
     "metadata": {},
     "output_type": "display_data"
    }
   ],
   "source": [
    "reward = reward_raw.copy()\n",
    "reward = reward.clip(-1, 1)\n",
    "print(reward.shape)\n",
    "plt.hist(reward, bins=100)"
   ]
  },
  {
   "cell_type": "code",
   "execution_count": 48,
   "id": "bbcee81fad8fe28c",
   "metadata": {
    "ExecuteTime": {
     "end_time": "2025-02-19T12:05:47.797244Z",
     "start_time": "2025-02-19T12:05:47.645197Z"
    }
   },
   "outputs": [
    {
     "name": "stdout",
     "output_type": "stream",
     "text": [
      "(241920,)\n"
     ]
    },
    {
     "data": {
      "text/plain": [
       "(array([1418.,    0.,    0.,    0.,    0.,    0.,    0.,    0.,    0.,\n",
       "           0.,    0.,    0.,    0.,    0.,    0.,    0.,    0.,    0.,\n",
       "           0.,    0.,    0.,    0.,    0.,    0.,    0.,  384.,    0.,\n",
       "           0.,    0.,    0.,    0.,    0.,    0.,    0.,    0.,    0.,\n",
       "           0.,    0.,    0.,    0.,    0.,    0.,    0.,    0.,    0.,\n",
       "           0.,    0.,    0.,    0.,    0., 2380.,    0.,    0.,    0.,\n",
       "           0.,    0.,    0.,    0.,    0.,    0.,    0.,    0.,    0.,\n",
       "           0.,    0.,    0.,    0.,    0.,    0.,    0.,    0.,    0.,\n",
       "           0.,    0.,    0.,  609.,    0.,    0.,    0.,    0.,    0.,\n",
       "           0.,    0.,    0.,    0.,    0.,    0.,    0.,    0.,    0.,\n",
       "           0.,    0.,    0.,    0.,    0.,    0.,    0.,    0.,    0.,\n",
       "        1439.]),\n",
       " array([-1.        , -0.98000002, -0.95999998, -0.94      , -0.92000002,\n",
       "        -0.89999998, -0.88      , -0.86000001, -0.83999997, -0.81999999,\n",
       "        -0.80000001, -0.77999997, -0.75999999, -0.74000001, -0.72000003,\n",
       "        -0.69999999, -0.68000001, -0.66000003, -0.63999999, -0.62      ,\n",
       "        -0.60000002, -0.57999998, -0.56      , -0.54000002, -0.51999998,\n",
       "        -0.5       , -0.47999999, -0.46000001, -0.44      , -0.41999999,\n",
       "        -0.40000001, -0.38      , -0.36000001, -0.34      , -0.31999999,\n",
       "        -0.30000001, -0.28      , -0.25999999, -0.23999999, -0.22      ,\n",
       "        -0.2       , -0.18000001, -0.16      , -0.14      , -0.12      ,\n",
       "        -0.1       , -0.08      , -0.06      , -0.04      , -0.02      ,\n",
       "         0.        ,  0.02      ,  0.04      ,  0.06      ,  0.08      ,\n",
       "         0.1       ,  0.12      ,  0.14      ,  0.16      ,  0.18000001,\n",
       "         0.2       ,  0.22      ,  0.23999999,  0.25999999,  0.28      ,\n",
       "         0.30000001,  0.31999999,  0.34      ,  0.36000001,  0.38      ,\n",
       "         0.40000001,  0.41999999,  0.44      ,  0.46000001,  0.47999999,\n",
       "         0.5       ,  0.51999998,  0.54000002,  0.56      ,  0.57999998,\n",
       "         0.60000002,  0.62      ,  0.63999999,  0.66000003,  0.68000001,\n",
       "         0.69999999,  0.72000003,  0.74000001,  0.75999999,  0.77999997,\n",
       "         0.80000001,  0.81999999,  0.83999997,  0.86000001,  0.88      ,\n",
       "         0.89999998,  0.92000002,  0.94      ,  0.95999998,  0.98000002,\n",
       "         1.        ]),\n",
       " <BarContainer object of 100 artists>)"
      ]
     },
     "execution_count": 48,
     "metadata": {},
     "output_type": "execute_result"
    },
    {
     "data": {
      "image/png": "[encoded data removed]",
      "text/plain": [
       "<Figure size 640x480 with 1 Axes>"
      ]
     },
     "metadata": {},
     "output_type": "display_data"
    }
   ],
   "source": [
    "reward = reward_raw.copy().flatten()\n",
    "print(reward.shape)\n",
    "zero_indices = np.where((reward < 0.001) & (reward > -0.001))[0]\n",
    "non_zero_indices = np.where(reward != 0)[0]\n",
    "\n",
    "reward = reward.clip(-1, 1)\n",
    "num_to_keep = int(len(zero_indices) * 0.01)\n",
    " \n",
    "final_indices = np.concatenate([non_zero_indices, keep_indices])\n",
    "\n",
    "reward_filtered = reward[final_indices]\n",
    "\n",
    "plt.hist(reward_filtered, bins=100)"
   ]
  }
 ],
 "metadata": {
  "kernelspec": {
   "display_name": "Python 3",
   "language": "python",
   "name": "python3"
  },
  "language_info": {
   "codemirror_mode": {
    "name": "ipython",
    "version": 2
   },
   "file_extension": ".py",
   "mimetype": "text/x-python",
   "name": "python",
   "nbconvert_exporter": "python",
   "pygments_lexer": "ipython2",
   "version": "2.7.6"
  }
 },
 "nbformat": 4,
 "nbformat_minor": 5
}
